{
  "cells": [
    {
      "cell_type": "markdown",
      "metadata": {
        "id": "RwB0CVqYFzbs"
      },
      "source": [
        "### Алгоритмы интеллектуальной обработки больших объемов данных\n",
        "## Домашнее задание №4 - Градиентный бустинг\n"
      ]
    },
    {
      "cell_type": "markdown",
      "metadata": {
        "id": "pn0JLnP1Fzby"
      },
      "source": [
        "**Общая информация**\n",
        "\n",
        "**Срок сдачи:** 13 июня 2022, 08:30   \n",
        "**Штраф за опоздание:** -2 балла после 08:30 13 июня, -4 балла после 08:30 20 июня, -6 баллов после 08:30 24 мая, -8 баллов после 08:30 31 мая.\n",
        "\n",
        "При отправлении ДЗ указывайте фамилию в названии файла Присылать ДЗ необходимо в виде ссылки на свой github репозиторий на почту ml1.sphere@mail.ru с указанием темы в следующем формате:\n",
        "[ML0422, Задание 4] Фамилия Имя. \n",
        "\n",
        "\n",
        "Используйте данный Ipython Notebook при оформлении домашнего задания."
      ]
    },
    {
      "cell_type": "markdown",
      "metadata": {
        "id": "EuCSxdvCFzb0"
      },
      "source": [
        "##  Считаем производные для функций потерь (1 балл)"
      ]
    },
    {
      "cell_type": "markdown",
      "metadata": {
        "id": "wEvCNuWZFzb1"
      },
      "source": [
        "Мы будем реализовать градиентный бустинг для 3 функций потерь:\n",
        "\n",
        "1) MSE  $L(a(x_i), y_i) = (y_i - a(x_i)) ^ 2$\n",
        "\n",
        "2) Экспоненциальная  $L(a(x_i), y_i) = exp( -a(x_i) y_i), y_i \\in \\{-1, 1\\}$\n",
        "\n",
        "3) Логистическая  $L(a(x_i), y_i) = \\log (1 + exp( -a(x_i) y_i)), y_i \\in \\{-1, 1\\}$\n",
        "\n",
        "где $a(x_i)$ предсказание бустинга на итом объекте. \n",
        "\n",
        "Для каждой функции потерь напишите таргет, на который будет настраиваться каждое дерево в бустинге. "
      ]
    },
    {
      "cell_type": "markdown",
      "metadata": {
        "id": "Hs15RluOFzb2"
      },
      "source": [
        "$$\n",
        "1) \\dfrac{\\partial L}{\\partial a} = - 2 y_i + 2 a(x_i) \\\\ \\\\\n",
        "2) \\dfrac{\\partial L}{\\partial a} = - y_i \\exp(- a(x_i) y_i) \\\\ \\\\\n",
        "3) \\dfrac{\\partial L}{\\partial a} = \\dfrac{- y_i \\exp(- a(x_i) y_i)}{1 + \\exp(- a(x_i) y_i)} = \\dfrac{- y_i}{1 + \\exp(a(x_i) y_i)}\n",
        "$$"
      ]
    },
    {
      "cell_type": "markdown",
      "metadata": {
        "id": "xIBjdJZgFzb2"
      },
      "source": [
        "##  Реализуем градиентный бустинг (3 балла)"
      ]
    },
    {
      "cell_type": "markdown",
      "metadata": {
        "id": "8V8bIfCmFzb3"
      },
      "source": [
        "Реализуйте класс градиентного бустинга для классификации. Ваша реализация бустинга должна работать по точности не более чем на 5 процентов хуже чем GradientBoostingClassifier из sklearn. \n"
      ]
    },
    {
      "cell_type": "markdown",
      "metadata": {
        "id": "8BsLQAOjFzb4"
      },
      "source": [
        "Детали реализации:\n",
        "\n",
        "-- должно поддерживаться 3 функции потерь\n",
        "\n",
        "-- сами базовые алгоритмы(деревья, линейные модели и тп) реализовать не надо, просто возьмите готовые из sklearn\n",
        "\n",
        "-- в качестве функции потерь для построения одного дерева используйте MSE\n",
        "\n",
        "-- шаг в бустинге можно не подбирать, можно брать константный\n",
        "\n",
        "-- можно брать разные модели в качестве инициализации бустинга\n",
        "\n",
        "-- должны поддерживаться следующие параметры:\n",
        "\n",
        "а) число итераций\n",
        "б) размер шага\n",
        "в) процент случайных фичей при построении одного дерева\n",
        "д) процент случайных объектов при построении одного дерева\n",
        "е) параметры базового алгоритма (передавайте через **kwargs)"
      ]
    },
    {
      "cell_type": "code",
      "execution_count": 228,
      "metadata": {
        "collapsed": true,
        "jupyter": {
          "outputs_hidden": true
        },
        "id": "8TW4W3WPFzb6"
      },
      "outputs": [],
      "source": [
        "import numpy as np\n",
        "\n",
        "from sklearn import base\n",
        "from sklearn.datasets import load_wine, make_classification\n",
        "from sklearn.ensemble import GradientBoostingClassifier, RandomForestRegressor\n",
        "from sklearn.metrics import accuracy_score\n",
        "from sklearn.model_selection import train_test_split\n",
        "from sklearn.tree import DecisionTreeRegressor\n",
        "from scipy.special import softmax"
      ]
    },
    {
      "cell_type": "code",
      "source": [
        "class MyGradientBoostingClassifier(base.BaseEstimator):\n",
        "\n",
        "    def __init__(self, loss=\"mse\", learning_rate=0.1, n_estimators=100, colsample=1., subsample=1., *args, **kwargs):\n",
        "        \"\"\"\n",
        "        loss -- один из 3 лоссов: mse, exp, log\n",
        "        learning_rate -- шаг бустинга\n",
        "        n_estimators -- число итераций\n",
        "        colsample -- процент рандомных признаков при обучении одного алгоритма\n",
        "        subsample -- процент рандомных объектов при обучении одного алгоритма\n",
        "        args, kwargs -- параметры  базовых моделей\n",
        "        \"\"\"\n",
        "        self.loss = loss\n",
        "        self.learning_rate = learning_rate\n",
        "        self.n_estimators = n_estimators\n",
        "        self.colsample = colsample\n",
        "        self.subsample = subsample\n",
        "        self.args = args\n",
        "        self.kwargs = kwargs\n",
        "\n",
        "    def get_loss(self, pred, y):\n",
        "        if self.loss ==\"mse\":\n",
        "            return ((y - pred) * (y - pred)).sum()\n",
        "        elif self.loss == \"exp\":\n",
        "            return (np.exp(- pred * y)).sum()\n",
        "        else:\n",
        "            return (np.log(np.ones(y.shape[0]) + np.exp(- pred * y))).sum()\n",
        "    \n",
        "    def grad(self, pred, y):\n",
        "        if self.loss ==\"mse\":\n",
        "            return - 2 * y + 2 * pred\n",
        "        elif self.loss == \"exp\":\n",
        "            return - y * np.exp(- pred * y)\n",
        "        else:\n",
        "            return - y * np.exp(- pred * y) / (1 + np.exp(- pred * y))\n",
        "\n",
        "    def fit(self, X, y, base_model=DecisionTreeRegressor, init_model=None):\n",
        "        \"\"\"\n",
        "        X -- объекты для обучения:\n",
        "        y -- таргеты для обучения\n",
        "        base_model -- класс базовых моделей, например sklearn.tree.DecisionTreeRegressor\n",
        "        init_model -- класс для первой модели, если None то берем константу (только для посл задания)\n",
        "        \"\"\"\n",
        "        self.n_classes = np.unique(y).shape[0]\n",
        "        self.init_model = init_model\n",
        "        self.models = [base_model(*self.args, **self.kwargs) for i in range(self.n_estimators)]\n",
        "\n",
        "        if init_model is None:\n",
        "            last_model_pred = np.zeros(y.shape[0], dtype=np.float64)\n",
        "        else:\n",
        "            self.zero_model = init_model()\n",
        "            self.zero_model.fit(X, y)\n",
        "            last_model_pred = self.zero_model.predict(X).astype(np.float64)\n",
        "            \n",
        "        self.losses = np.zeros(self.n_estimators + 1)\n",
        "        self.losses[0] = self.get_loss(np.sign(last_model_pred), y)\n",
        "\n",
        "        self.feats = np.repeat(np.arange(int(X.shape[1] * self.colsample)), self.n_estimators).reshape(\n",
        "            self.n_estimators, int(X.shape[1] * self.colsample))\n",
        "        for i in range(self.n_estimators):\n",
        "            objs = np.random.choice(y.shape[0], int(y.shape[0] * self.subsample), replace=False)\n",
        "            self.feats[i] = np.random.choice(X.shape[1], int(X.shape[1] * self.colsample), replace=False)\n",
        "            self.models[i].fit(X[objs][:, self.feats[i]], - self.grad(last_model_pred[objs], y[objs]))\n",
        "            last_model_pred += self.learning_rate * self.models[i].predict(X[:, self.feats[i]])\n",
        "            self.losses[i + 1] = self.get_loss(last_model_pred, y)\n",
        "        return last_model_pred\n",
        "        \n",
        "    def predict(self, X):\n",
        "        pred = np.asarray([self.models[i].predict(X[:, self.feats[i]])\n",
        "                        for i in range(self.n_estimators)]).sum(axis=0)\n",
        "        if self.init_model is None:\n",
        "            pred = pred * self.learning_rate\n",
        "        else:\n",
        "            pred = pred * self.learning_rate + self.zero_model.predict(X)\n",
        "        return pred.round().astype(int)"
      ],
      "metadata": {
        "id": "fcODRnUtm5ZD"
      },
      "execution_count": 235,
      "outputs": []
    },
    {
      "cell_type": "code",
      "execution_count": 242,
      "metadata": {
        "id": "WL4MPPqCFzb-"
      },
      "outputs": [],
      "source": [
        "my_clf = MyGradientBoostingClassifier(loss=\"mse\", n_estimators=100, learning_rate=0.2, criterion=\"friedman_mse\", max_depth=3)\n",
        "clf = GradientBoostingClassifier()"
      ]
    },
    {
      "cell_type": "code",
      "execution_count": 243,
      "metadata": {
        "collapsed": true,
        "jupyter": {
          "outputs_hidden": true
        },
        "id": "PlELaCSjFzb-"
      },
      "outputs": [],
      "source": [
        "wine = load_wine()\n",
        "X_train, X_test, y_train, y_test = train_test_split(wine.data, wine.target, test_size=0.1, stratify=wine.target)"
      ]
    },
    {
      "cell_type": "code",
      "execution_count": 244,
      "metadata": {
        "id": "lEOeGf5CFzb_",
        "colab": {
          "base_uri": "https://localhost:8080/"
        },
        "outputId": "be637b4c-ef95-4d18-e167-c78e2f9c9e1e"
      },
      "outputs": [
        {
          "output_type": "stream",
          "name": "stdout",
          "text": [
            "1.0\n",
            "1.0\n",
            "1.0\n"
          ]
        }
      ],
      "source": [
        "my_clf.fit(X_train, y_train)\n",
        "clf.fit(X_train, y_train)\n",
        "print(accuracy_score(y_pred=clf.predict(X_test), y_true=y_test))\n",
        "print(accuracy_score(y_pred=my_clf.predict(X_train), y_true=y_train))\n",
        "print(accuracy_score(y_pred=my_clf.predict(X_test), y_true=y_test))"
      ]
    },
    {
      "cell_type": "markdown",
      "metadata": {
        "id": "8S5l3hJpFzb_"
      },
      "source": [
        "## Подбираем параметры (2 балла)\n",
        "\n",
        "Давайте попробуем применить Ваш бустинг для предсказаний цены домов в Калифорнии. Чтобы можно было попробовтаь разные функции потерь, переведем по порогу таргет в 2 класса: дорогие и дешевые дома."
      ]
    },
    {
      "cell_type": "markdown",
      "metadata": {
        "id": "vgrprK51FzcA"
      },
      "source": [
        "В задании нужно\n",
        "\n",
        "1) Построить график точности в зависимости от числа итераций на валидации.\n",
        "\n",
        "2) Подобрать оптимальные параметры Вашего бустинга на валидации. \n"
      ]
    },
    {
      "cell_type": "code",
      "execution_count": 189,
      "metadata": {
        "id": "-59CHCQYFzcA"
      },
      "outputs": [],
      "source": [
        "from sklearn.datasets import fetch_california_housing\n",
        "X, y = fetch_california_housing(return_X_y=True)"
      ]
    },
    {
      "cell_type": "code",
      "execution_count": 190,
      "metadata": {
        "id": "0SXkDroSFzcB",
        "outputId": "37b17004-1cd6-4d97-e477-aebde2827408",
        "colab": {
          "base_uri": "https://localhost:8080/"
        }
      },
      "outputs": [
        {
          "output_type": "stream",
          "name": "stdout",
          "text": [
            "(20640, 8) (20640,)\n"
          ]
        }
      ],
      "source": [
        "# Превращаем регрессию в классификацию\n",
        "y = (y > 2.0).astype(int)\n",
        "print(X.shape, y.shape)"
      ]
    },
    {
      "cell_type": "code",
      "source": [
        "np.unique(y, return_counts=True)"
      ],
      "metadata": {
        "colab": {
          "base_uri": "https://localhost:8080/"
        },
        "id": "h0Zs3qem8mxf",
        "outputId": "221c6254-a32e-411e-a137-2b62525d485f"
      },
      "execution_count": 191,
      "outputs": [
        {
          "output_type": "execute_result",
          "data": {
            "text/plain": [
              "(array([0, 1]), array([11931,  8709]))"
            ]
          },
          "metadata": {},
          "execution_count": 191
        }
      ]
    },
    {
      "cell_type": "code",
      "execution_count": 196,
      "metadata": {
        "collapsed": true,
        "jupyter": {
          "outputs_hidden": true
        },
        "id": "P8R2aWY2FzcC"
      },
      "outputs": [],
      "source": [
        "X_train_full, X_test, y_train_full, y_test = train_test_split(X, y, test_size=0.1, stratify=y)"
      ]
    },
    {
      "cell_type": "code",
      "source": [
        "X_train, X_val, y_train, y_val = train_test_split(X_train_full, y_train_full, test_size=0.2, stratify=y_train_full)"
      ],
      "metadata": {
        "id": "iIhOd6LPCKrI"
      },
      "execution_count": 197,
      "outputs": []
    },
    {
      "cell_type": "code",
      "execution_count": 199,
      "metadata": {
        "collapsed": true,
        "jupyter": {
          "outputs_hidden": true
        },
        "id": "l25WDXdUFzcC",
        "colab": {
          "base_uri": "https://localhost:8080/"
        },
        "outputId": "2516d26d-d089-434f-b589-1aa667f9c3d5"
      },
      "outputs": [
        {
          "output_type": "stream",
          "name": "stderr",
          "text": [
            "100%|██████████| 9/9 [05:07<00:00, 34.14s/it]\n"
          ]
        }
      ],
      "source": [
        "\"\"\"\n",
        "Подбираем:\n",
        "а) число итераций - n_estimators\n",
        "б) размер шага - learning_rate\n",
        "в) процент случайных фичей при построении одного дерева - colsample\n",
        "д) процент случайных объектов при построении одного дерева - subsample\n",
        "е) параметры базового алгоритма - max_depth\n",
        "ж) лосс - loss\n",
        "\"\"\"\n",
        "\n",
        "from tqdm import tqdm\n",
        "\n",
        "\n",
        "n_estimators_list = [50, 100, 250, 500, 750, 1000, 1250, 1500, 1750] \n",
        "scores = []\n",
        "train_scores = []\n",
        "\n",
        "for n_est in tqdm(n_estimators_list):\n",
        "    clf = MyGradientBoostingClassifier(\n",
        "        n_estimators=n_est,\n",
        "        max_depth=3\n",
        "    )\n",
        "    clf.fit(X_train, y_train)\n",
        "    scores.append(accuracy_score(clf.predict(X_val), y_val))"
      ]
    },
    {
      "cell_type": "code",
      "source": [
        "import matplotlib.pyplot as plt \n",
        "\n",
        "plt.plot(n_estimators_list, scores, label='validation score')\n",
        "#plt.plot(n_estimators_list, train_scores, label='train score')\n",
        "plt.xlabel('n_estimators')\n",
        "plt.ylabel('accuracy')\n",
        "plt.legend()\n",
        "plt.show()"
      ],
      "metadata": {
        "colab": {
          "base_uri": "https://localhost:8080/",
          "height": 280
        },
        "id": "6DLBsqL_F9wA",
        "outputId": "644e2b3f-8232-48a4-b474-ad94b68f84c7"
      },
      "execution_count": 200,
      "outputs": [
        {
          "output_type": "display_data",
          "data": {
            "text/plain": [
              "<Figure size 432x288 with 1 Axes>"
            ],
            "image/png": "[encoded data removed]"
          },
          "metadata": {
            "needs_background": "light"
          }
        }
      ]
    },
    {
      "cell_type": "code",
      "source": [
        "loss_list = [\"mse\", \"exp\", \"log\"] \n",
        "scores = []\n",
        "train_scores = []\n",
        "\n",
        "for loss in tqdm(loss_list):\n",
        "    clf = MyGradientBoostingClassifier(\n",
        "        n_estimators=500,\n",
        "        loss=loss,\n",
        "        max_depth=3\n",
        "    )\n",
        "    clf.fit(X_train, y_train)\n",
        "    train_scores.append(accuracy_score(clf.predict(X_train), y_train))\n",
        "    scores.append(accuracy_score(clf.predict(X_val), y_val))"
      ],
      "metadata": {
        "colab": {
          "base_uri": "https://localhost:8080/"
        },
        "id": "r-S7ep5FHHqo",
        "outputId": "77c21ea0-5e4f-4143-f653-066663548ad2"
      },
      "execution_count": 205,
      "outputs": [
        {
          "output_type": "stream",
          "name": "stderr",
          "text": [
            "100%|██████████| 3/3 [01:12<00:00, 24.20s/it]\n"
          ]
        }
      ]
    },
    {
      "cell_type": "code",
      "source": [
        "plt.plot([0, 1, 2], scores, label='validation score')\n",
        "plt.plot([0, 1, 2], train_scores, label='train score')\n",
        "plt.xlabel('loss: [\"mse\", \"exp\", \"log\"]')\n",
        "plt.ylabel('accuracy')\n",
        "plt.legend()\n",
        "plt.show()"
      ],
      "metadata": {
        "colab": {
          "base_uri": "https://localhost:8080/",
          "height": 279
        },
        "id": "0mmdY4JwI6Dq",
        "outputId": "6dd96ab0-d35d-43d5-e2e3-becac6c1b9dc"
      },
      "execution_count": 206,
      "outputs": [
        {
          "output_type": "display_data",
          "data": {
            "text/plain": [
              "<Figure size 432x288 with 1 Axes>"
            ],
            "image/png": "[encoded data removed]"
          },
          "metadata": {
            "needs_background": "light"
          }
        }
      ]
    },
    {
      "cell_type": "code",
      "source": [
        "learning_rate_list = [0.001, 0.005, 0.01, 0.02, 0.05, 0.075, 0.1, 0.2, 0.5, 0.75, 1.]\n",
        "scores = []\n",
        "train_scores = []\n",
        "\n",
        "for learning_rate in tqdm(learning_rate_list):\n",
        "    clf = MyGradientBoostingClassifier(\n",
        "        n_estimators=500,\n",
        "        learning_rate=learning_rate,\n",
        "        loss=\"mse\",\n",
        "        max_depth=3\n",
        "    )\n",
        "    clf.fit(X_train, y_train)\n",
        "    train_scores.append(accuracy_score(clf.predict(X_train), y_train))\n",
        "    scores.append(accuracy_score(clf.predict(X_val), y_val))"
      ],
      "metadata": {
        "colab": {
          "base_uri": "https://localhost:8080/"
        },
        "id": "uEBncEawJSg1",
        "outputId": "a38f7b60-bde0-4bfd-faff-234331217d4b"
      },
      "execution_count": 207,
      "outputs": [
        {
          "output_type": "stream",
          "name": "stderr",
          "text": [
            "100%|██████████| 11/11 [04:33<00:00, 24.89s/it]\n"
          ]
        }
      ]
    },
    {
      "cell_type": "code",
      "source": [
        "plt.plot(learning_rate_list, scores, label='validation score')\n",
        "plt.plot(learning_rate_list, train_scores, label='train score')\n",
        "plt.xlabel('learning_rate')\n",
        "plt.ylabel('accuracy')\n",
        "plt.legend()\n",
        "plt.show()"
      ],
      "metadata": {
        "colab": {
          "base_uri": "https://localhost:8080/",
          "height": 281
        },
        "id": "uuz2NxY7JjbN",
        "outputId": "19e71034-f5c7-428f-e586-c0b5cc67c2a2"
      },
      "execution_count": 208,
      "outputs": [
        {
          "output_type": "display_data",
          "data": {
            "text/plain": [
              "<Figure size 432x288 with 1 Axes>"
            ],
            "image/png": "[encoded data removed]"
          },
          "metadata": {
            "needs_background": "light"
          }
        }
      ]
    },
    {
      "cell_type": "code",
      "source": [
        "learning_rate_list = [0.01, 0.02, 0.05, 0.1, 0.2, 0.5]\n",
        "n_estimators_list = [50, 100, 250, 500, 750] \n",
        "scores = np.zeros((5, 6))\n",
        "train_scores = np.zeros((5, 6))\n",
        "\n",
        "for n_est_i in tqdm(range(5)):\n",
        "    for learning_rate_i in tqdm(range(6)):\n",
        "        clf = MyGradientBoostingClassifier(\n",
        "            n_estimators=n_estimators_list[n_est_i],\n",
        "            learning_rate=learning_rate_list[learning_rate_i],\n",
        "            loss=\"mse\",\n",
        "            max_depth=3\n",
        "        )\n",
        "        clf.fit(X_train, y_train)\n",
        "        train_scores[n_est_i, learning_rate_i] = (accuracy_score(clf.predict(X_train), y_train))\n",
        "        scores[n_est_i, learning_rate_i] = (accuracy_score(clf.predict(X_val), y_val))"
      ],
      "metadata": {
        "colab": {
          "base_uri": "https://localhost:8080/"
        },
        "id": "hGNxnpJOKL6M",
        "outputId": "758cf88b-8db0-4252-a49a-78877d31fe15"
      },
      "execution_count": 209,
      "outputs": [
        {
          "output_type": "stream",
          "name": "stderr",
          "text": [
            "  0%|          | 0/5 [00:00<?, ?it/s]\n",
            "  0%|          | 0/6 [00:00<?, ?it/s]\u001b[A\n",
            " 17%|█▋        | 1/6 [00:02<00:10,  2.19s/it]\u001b[A\n",
            " 33%|███▎      | 2/6 [00:04<00:08,  2.13s/it]\u001b[A\n",
            " 50%|█████     | 3/6 [00:06<00:06,  2.11s/it]\u001b[A\n",
            " 67%|██████▋   | 4/6 [00:08<00:04,  2.12s/it]\u001b[A\n",
            " 83%|████████▎ | 5/6 [00:10<00:02,  2.11s/it]\u001b[A\n",
            "100%|██████████| 6/6 [00:12<00:00,  2.11s/it]\n",
            " 20%|██        | 1/5 [00:12<00:50, 12.68s/it]\n",
            "  0%|          | 0/6 [00:00<?, ?it/s]\u001b[A\n",
            " 17%|█▋        | 1/6 [00:04<00:21,  4.20s/it]\u001b[A\n",
            " 33%|███▎      | 2/6 [00:08<00:17,  4.31s/it]\u001b[A\n",
            " 50%|█████     | 3/6 [00:13<00:13,  4.53s/it]\u001b[A\n",
            " 67%|██████▋   | 4/6 [00:17<00:08,  4.38s/it]\u001b[A\n",
            " 83%|████████▎ | 5/6 [00:21<00:04,  4.28s/it]\u001b[A\n",
            "100%|██████████| 6/6 [00:25<00:00,  4.30s/it]\n",
            " 40%|████      | 2/5 [00:38<01:01, 20.41s/it]\n",
            "  0%|          | 0/6 [00:00<?, ?it/s]\u001b[A\n",
            " 17%|█▋        | 1/6 [00:10<00:52, 10.47s/it]\u001b[A\n",
            " 33%|███▎      | 2/6 [00:20<00:41, 10.41s/it]\u001b[A\n",
            " 50%|█████     | 3/6 [00:31<00:31, 10.39s/it]\u001b[A\n",
            " 67%|██████▋   | 4/6 [00:41<00:20, 10.41s/it]\u001b[A\n",
            " 83%|████████▎ | 5/6 [00:52<00:10, 10.69s/it]\u001b[A\n",
            "100%|██████████| 6/6 [01:03<00:00, 10.56s/it]\n",
            " 60%|██████    | 3/5 [01:41<01:20, 40.03s/it]\n",
            "  0%|          | 0/6 [00:00<?, ?it/s]\u001b[A\n",
            " 17%|█▋        | 1/6 [00:20<01:43, 20.75s/it]\u001b[A\n",
            " 33%|███▎      | 2/6 [00:41<01:23, 20.80s/it]\u001b[A\n",
            " 50%|█████     | 3/6 [01:02<01:02, 20.74s/it]\u001b[A\n",
            " 67%|██████▋   | 4/6 [01:24<00:42, 21.29s/it]\u001b[A\n",
            " 83%|████████▎ | 5/6 [01:45<00:21, 21.38s/it]\u001b[A\n",
            "100%|██████████| 6/6 [02:06<00:00, 21.08s/it]\n",
            " 80%|████████  | 4/5 [03:48<01:14, 74.16s/it]\n",
            "  0%|          | 0/6 [00:00<?, ?it/s]\u001b[A\n",
            " 17%|█▋        | 1/6 [00:31<02:35, 31.11s/it]\u001b[A\n",
            " 33%|███▎      | 2/6 [01:01<02:03, 30.97s/it]\u001b[A\n",
            " 50%|█████     | 3/6 [01:32<01:32, 30.83s/it]\u001b[A\n",
            " 67%|██████▋   | 4/6 [02:03<01:01, 30.86s/it]\u001b[A\n",
            " 83%|████████▎ | 5/6 [02:34<00:30, 30.90s/it]\u001b[A\n",
            "100%|██████████| 6/6 [03:06<00:00, 31.08s/it]\n",
            "100%|██████████| 5/5 [06:54<00:00, 82.98s/it] \n"
          ]
        }
      ]
    },
    {
      "cell_type": "code",
      "source": [
        "scores.max(), scores # - learning_rate = 0.1, n_estimators = 500"
      ],
      "metadata": {
        "colab": {
          "base_uri": "https://localhost:8080/"
        },
        "id": "lllYLSkYNl8p",
        "outputId": "913cad04-1e53-45af-b237-dd18cc701687"
      },
      "execution_count": 214,
      "outputs": [
        {
          "output_type": "execute_result",
          "data": {
            "text/plain": [
              "(0.8963939720129172,\n",
              " array([[0.73923574, 0.82561895, 0.86114101, 0.87325081, 0.88374596,\n",
              "         0.88266954],\n",
              "        [0.82427341, 0.8565662 , 0.87809473, 0.8810549 , 0.88805167,\n",
              "         0.88482239],\n",
              "        [0.86329386, 0.87405813, 0.88724435, 0.8893972 , 0.88912809,\n",
              "         0.87351991],\n",
              "        [0.87728741, 0.88078579, 0.89074273, 0.89639397, 0.89289559,\n",
              "         0.86167922],\n",
              "        [0.88024758, 0.88455328, 0.89370291, 0.89585576, 0.89262648,\n",
              "         0.84956943]]))"
            ]
          },
          "metadata": {},
          "execution_count": 214
        }
      ]
    },
    {
      "cell_type": "code",
      "source": [
        "colsample_list = [0.125, 0.25, 0.375, 0.5, 0.625, 0.75, 0.875, 1.]\n",
        "scores = []\n",
        "train_scores = []\n",
        "\n",
        "for colsample in tqdm(colsample_list):\n",
        "    clf = MyGradientBoostingClassifier(\n",
        "        n_estimators=500,\n",
        "        learning_rate=0.1,\n",
        "        loss=\"mse\",\n",
        "        colsample=colsample,\n",
        "        max_depth=3\n",
        "    )\n",
        "    clf.fit(X_train, y_train)\n",
        "    train_scores.append(accuracy_score(clf.predict(X_train), y_train))\n",
        "    scores.append(accuracy_score(clf.predict(X_val), y_val))"
      ],
      "metadata": {
        "colab": {
          "base_uri": "https://localhost:8080/"
        },
        "id": "IBYYLq0HJuKH",
        "outputId": "c68edcdf-1465-4178-994e-e5c98aecf003"
      },
      "execution_count": 218,
      "outputs": [
        {
          "output_type": "stream",
          "name": "stderr",
          "text": [
            "100%|██████████| 8/8 [01:49<00:00, 13.71s/it]\n"
          ]
        }
      ]
    },
    {
      "cell_type": "code",
      "source": [
        "plt.plot(colsample_list, scores, label='validation score')\n",
        "plt.plot(colsample_list, train_scores, label='train score')\n",
        "plt.xlabel('colsample')\n",
        "plt.ylabel('accuracy')\n",
        "plt.legend()\n",
        "plt.show()"
      ],
      "metadata": {
        "colab": {
          "base_uri": "https://localhost:8080/",
          "height": 279
        },
        "id": "T-GSYlzSPfNa",
        "outputId": "81285d7d-99bc-4f7c-8994-07e7d2918949"
      },
      "execution_count": 219,
      "outputs": [
        {
          "output_type": "display_data",
          "data": {
            "text/plain": [
              "<Figure size 432x288 with 1 Axes>"
            ],
            "image/png": "[encoded data removed]"
          },
          "metadata": {
            "needs_background": "light"
          }
        }
      ]
    },
    {
      "cell_type": "code",
      "source": [
        "subsample_list = [0.001, 0.005, 0.01, 0.02, 0.05, 0.075, 0.1, 0.2, 0.5, 0.75, 1.]\n",
        "scores = []\n",
        "train_scores = []\n",
        "\n",
        "for subsample in tqdm(subsample_list):\n",
        "    clf = MyGradientBoostingClassifier(\n",
        "        n_estimators=500,\n",
        "        learning_rate=0.1,\n",
        "        loss=\"mse\",\n",
        "        colsample=1.,\n",
        "        subsample=subsample,\n",
        "        max_depth=3\n",
        "    )\n",
        "    clf.fit(X_train, y_train)\n",
        "    train_scores.append(accuracy_score(clf.predict(X_train), y_train))\n",
        "    scores.append(accuracy_score(clf.predict(X_val), y_val))"
      ],
      "metadata": {
        "colab": {
          "base_uri": "https://localhost:8080/"
        },
        "id": "zNIm7e-PP-1B",
        "outputId": "1635841d-4ea8-45e5-fccb-1a81bd9f02eb"
      },
      "execution_count": 220,
      "outputs": [
        {
          "output_type": "stream",
          "name": "stderr",
          "text": [
            "100%|██████████| 11/11 [01:16<00:00,  6.94s/it]\n"
          ]
        }
      ]
    },
    {
      "cell_type": "code",
      "source": [
        "plt.plot(subsample_list, scores, label='validation score')\n",
        "plt.plot(subsample_list, train_scores, label='train score')\n",
        "plt.xlabel('subsample')\n",
        "plt.ylabel('accuracy')\n",
        "plt.legend()\n",
        "plt.show()"
      ],
      "metadata": {
        "colab": {
          "base_uri": "https://localhost:8080/",
          "height": 279
        },
        "id": "gPmYmvSxQUaL",
        "outputId": "df4b8723-8b98-4407-a19a-6c2576c79df0"
      },
      "execution_count": 221,
      "outputs": [
        {
          "output_type": "display_data",
          "data": {
            "text/plain": [
              "<Figure size 432x288 with 1 Axes>"
            ],
            "image/png": "[encoded data removed]"
          },
          "metadata": {
            "needs_background": "light"
          }
        }
      ]
    },
    {
      "cell_type": "code",
      "source": [
        "scores"
      ],
      "metadata": {
        "colab": {
          "base_uri": "https://localhost:8080/"
        },
        "id": "4NlYmGAdRWlY",
        "outputId": "65c0bbe9-93a9-4a4b-e342-04a22a0dfb2c"
      },
      "execution_count": 222,
      "outputs": [
        {
          "output_type": "execute_result",
          "data": {
            "text/plain": [
              "[0.13159311087190528,\n",
              " 0.4593649085037675,\n",
              " 0.6733046286329386,\n",
              " 0.7777179763186222,\n",
              " 0.8490312163616792,\n",
              " 0.8630247578040904,\n",
              " 0.8684068891280947,\n",
              " 0.8834768568353067,\n",
              " 0.8885898815931109,\n",
              " 0.8939720129171151,\n",
              " 0.8963939720129172]"
            ]
          },
          "metadata": {},
          "execution_count": 222
        }
      ]
    },
    {
      "cell_type": "code",
      "source": [
        "max_depth_list = [2, 3, 4, 5, 6, 7, 8]\n",
        "scores = []\n",
        "train_scores = []\n",
        "\n",
        "for max_depth in tqdm(max_depth_list):\n",
        "    clf = MyGradientBoostingClassifier(\n",
        "        n_estimators=500,\n",
        "        learning_rate=0.1,\n",
        "        loss=\"mse\",\n",
        "        colsample=1.,\n",
        "        subsample=1.,\n",
        "        max_depth=max_depth\n",
        "    )\n",
        "    clf.fit(X_train, y_train)\n",
        "    train_scores.append(accuracy_score(clf.predict(X_train), y_train))\n",
        "    scores.append(accuracy_score(clf.predict(X_val), y_val))"
      ],
      "metadata": {
        "colab": {
          "base_uri": "https://localhost:8080/"
        },
        "id": "3s7WdxPxRiwR",
        "outputId": "3d55527a-0645-4278-9be7-8ae31cc0f8b6"
      },
      "execution_count": 223,
      "outputs": [
        {
          "output_type": "stream",
          "name": "stderr",
          "text": [
            "100%|██████████| 7/7 [03:46<00:00, 32.38s/it]\n"
          ]
        }
      ]
    },
    {
      "cell_type": "code",
      "source": [
        "plt.plot(max_depth_list, scores, label='validation score')\n",
        "plt.plot(max_depth_list, train_scores, label='train score')\n",
        "plt.xlabel('max_depth')\n",
        "plt.ylabel('accuracy')\n",
        "plt.legend()\n",
        "plt.show()"
      ],
      "metadata": {
        "colab": {
          "base_uri": "https://localhost:8080/",
          "height": 280
        },
        "id": "Mu4SP9SxRwVs",
        "outputId": "61377cae-2215-42dd-d858-861ea99de2b6"
      },
      "execution_count": 224,
      "outputs": [
        {
          "output_type": "display_data",
          "data": {
            "text/plain": [
              "<Figure size 432x288 with 1 Axes>"
            ],
            "image/png": "[encoded data removed]"
          },
          "metadata": {
            "needs_background": "light"
          }
        }
      ]
    },
    {
      "cell_type": "code",
      "source": [
        "scores"
      ],
      "metadata": {
        "colab": {
          "base_uri": "https://localhost:8080/"
        },
        "id": "1yu3yb67YRtj",
        "outputId": "21ba2c2a-928d-4071-8f40-23763ae89fc7"
      },
      "execution_count": 225,
      "outputs": [
        {
          "output_type": "execute_result",
          "data": {
            "text/plain": [
              "[0.8872443487621098,\n",
              " 0.8963939720129172,\n",
              " 0.8939720129171151,\n",
              " 0.8896663078579118,\n",
              " 0.8961248654467169,\n",
              " 0.8942411194833154,\n",
              " 0.8896663078579118]"
            ]
          },
          "metadata": {},
          "execution_count": 225
        }
      ]
    },
    {
      "cell_type": "code",
      "source": [
        "clf = MyGradientBoostingClassifier(\n",
        "    n_estimators=500,\n",
        "    learning_rate=0.1,\n",
        "    loss=\"mse\",\n",
        "    colsample=1.,\n",
        "    subsample=1.,\n",
        "    max_depth=3\n",
        ")\n",
        "clf.fit(X_train_full, y_train_full)\n",
        "accuracy_score(clf.predict(X_test), y_test)"
      ],
      "metadata": {
        "colab": {
          "base_uri": "https://localhost:8080/"
        },
        "id": "EN7Oc-0jYkkx",
        "outputId": "2b87469d-4e65-472e-add6-cf492882f6a0"
      },
      "execution_count": 227,
      "outputs": [
        {
          "output_type": "execute_result",
          "data": {
            "text/plain": [
              "0.9089147286821705"
            ]
          },
          "metadata": {},
          "execution_count": 227
        }
      ]
    },
    {
      "cell_type": "markdown",
      "metadata": {
        "id": "z-fIoq4aFzcD"
      },
      "source": [
        "## BooBag BagBoo (1 балл)\n",
        "\n"
      ]
    },
    {
      "cell_type": "markdown",
      "metadata": {
        "id": "g7_isIwcFzcD"
      },
      "source": [
        "Попробуем объединить бустинг и бэгинг. Давайте\n",
        "\n",
        "1) в качестве базовой модели брать не дерево решений, а случайный лес (из sklearn)\n",
        "\n",
        "2) обучать N бустингов на бустрапированной выборке, а затем предикт усреднять"
      ]
    },
    {
      "cell_type": "markdown",
      "metadata": {
        "id": "xNvmp_DbFzcD"
      },
      "source": [
        "Попробуйте обе этих стратегии на данных из прошлого задания. Получилось ли улучшить качество? Почему?"
      ]
    },
    {
      "cell_type": "code",
      "execution_count": 240,
      "metadata": {
        "collapsed": true,
        "jupyter": {
          "outputs_hidden": true
        },
        "id": "ijKpuNxKFzcE",
        "colab": {
          "base_uri": "https://localhost:8080/"
        },
        "outputId": "f4e92bd6-e93f-455c-8f64-2a3cf50a5e7e"
      },
      "outputs": [
        {
          "output_type": "execute_result",
          "data": {
            "text/plain": [
              "0.9055232558139535"
            ]
          },
          "metadata": {},
          "execution_count": 240
        }
      ],
      "source": [
        "clf = MyGradientBoostingClassifier(\n",
        "    n_estimators=500,\n",
        "    learning_rate=0.1,\n",
        "    loss=\"mse\",\n",
        "    colsample=1.,\n",
        "    subsample=1.,\n",
        "    max_depth=3\n",
        ")\n",
        "clf.fit(X_train_full, y_train_full, base_model=RandomForestRegressor)\n",
        "accuracy_score(clf.predict(X_test), y_test)"
      ]
    },
    {
      "cell_type": "code",
      "execution_count": 241,
      "metadata": {
        "collapsed": true,
        "jupyter": {
          "outputs_hidden": true
        },
        "id": "G_soyAMKFzcE",
        "colab": {
          "base_uri": "https://localhost:8080/"
        },
        "outputId": "38906894-6430-494d-c9ab-3009adc258c3"
      },
      "outputs": [
        {
          "output_type": "stream",
          "name": "stderr",
          "text": [
            "100%|██████████| 20/20 [05:49<00:00, 17.46s/it]\n"
          ]
        },
        {
          "output_type": "execute_result",
          "data": {
            "text/plain": [
              "0.8866279069767442"
            ]
          },
          "metadata": {},
          "execution_count": 241
        }
      ],
      "source": [
        "n_clf = 20\n",
        "clfs = [MyGradientBoostingClassifier(\n",
        "    n_estimators=500,\n",
        "    learning_rate=0.1,\n",
        "    loss=\"mse\",\n",
        "    colsample=1.,\n",
        "    subsample=1.,\n",
        "    max_depth=3\n",
        ") for i in range(n_clf)]\n",
        "\n",
        "idx = [np.random.choice(X_train_full.shape[0], int(X_train_full.shape[0] * 0.7), replace=False) for i in range(n_clf)]\n",
        "for i in tqdm(range(n_clf)):\n",
        "    clfs[i].fit(X_train_full[idx[i], :], y_train_full[idx[i]])\n",
        "\n",
        "pred = np.mean([clfs[i].predict(X_test) for i in range(n_clf)], axis=0).astype(int)\n",
        "accuracy_score(pred, y_test)"
      ]
    },
    {
      "cell_type": "markdown",
      "source": [
        "Улучшить результат не удалось, что может быть связано с переобучением из-за сложности модели."
      ],
      "metadata": {
        "id": "XSN2evlqyxS9"
      }
    },
    {
      "cell_type": "markdown",
      "metadata": {
        "id": "F0hkEMXJFzcF"
      },
      "source": [
        "## Умная инициализация (1 балл)\n",
        "\n",
        "Попробуйте брать в качестве инициализации бустинга не константу, а какой-то алгоритм и уже от его предикта стартовать итерации бустинга. Попробуйте разные модели из sklearn: линейные модели, рандом форест, svm..\n",
        "\n",
        "Получилось ли улучшить качество? Почему?\n",
        "\n"
      ]
    },
    {
      "cell_type": "code",
      "execution_count": 236,
      "metadata": {
        "collapsed": true,
        "jupyter": {
          "outputs_hidden": true
        },
        "id": "kMD8iYMuFzcF",
        "colab": {
          "base_uri": "https://localhost:8080/"
        },
        "outputId": "41f6b2ba-e4c5-46ab-db23-d525deff20ce"
      },
      "outputs": [
        {
          "output_type": "stream",
          "name": "stderr",
          "text": [
            " 80%|████████  | 8/10 [02:24<00:39, 19.79s/it]/usr/local/lib/python3.7/dist-packages/sklearn/svm/_base.py:1208: ConvergenceWarning: Liblinear failed to converge, increase the number of iterations.\n",
            "  ConvergenceWarning,\n",
            " 90%|█████████ | 9/10 [02:46<00:20, 20.33s/it]/usr/local/lib/python3.7/dist-packages/sklearn/svm/_base.py:1208: ConvergenceWarning: Liblinear failed to converge, increase the number of iterations.\n",
            "  ConvergenceWarning,\n",
            "100%|██████████| 10/10 [03:08<00:00, 18.84s/it]\n"
          ]
        }
      ],
      "source": [
        "from sklearn.ensemble import RandomForestClassifier\n",
        "from sklearn.linear_model import SGDClassifier, Lasso\n",
        "from sklearn.neighbors import KNeighborsClassifier, KNeighborsRegressor\n",
        "from sklearn.svm import LinearSVC, LinearSVR\n",
        "from sklearn.tree import DecisionTreeClassifier\n",
        "\n",
        "algorithm_list = [RandomForestClassifier, RandomForestRegressor,\n",
        "                  DecisionTreeClassifier, DecisionTreeRegressor, \n",
        "                  SGDClassifier, Lasso, \n",
        "                  KNeighborsClassifier, KNeighborsRegressor, \n",
        "                  LinearSVC, LinearSVR]\n",
        "scores = []\n",
        "train_scores = []\n",
        "\n",
        "for algorithm in tqdm(algorithm_list):\n",
        "    clf = MyGradientBoostingClassifier(\n",
        "        n_estimators=500,\n",
        "        learning_rate=0.1,\n",
        "        loss=\"mse\",\n",
        "        colsample=1.,\n",
        "        subsample=1.,\n",
        "        max_depth=3\n",
        "    )\n",
        "    clf.fit(X_train, y_train, init_model=algorithm)\n",
        "    train_scores.append(accuracy_score(clf.predict(X_train), y_train))\n",
        "    scores.append(accuracy_score(clf.predict(X_val), y_val))"
      ]
    },
    {
      "cell_type": "code",
      "source": [
        "plt.plot(np.arange(10), scores, label='validation score')\n",
        "plt.plot(np.arange(10), train_scores, label='train score')\n",
        "plt.xlabel('algorithm number')\n",
        "plt.ylabel('accuracy')\n",
        "plt.legend()\n",
        "plt.show()"
      ],
      "metadata": {
        "colab": {
          "base_uri": "https://localhost:8080/",
          "height": 279
        },
        "id": "nD1ZOH2uoYe5",
        "outputId": "ee017dc4-9c54-4def-b218-eee65ef19900"
      },
      "execution_count": 237,
      "outputs": [
        {
          "output_type": "display_data",
          "data": {
            "text/plain": [
              "<Figure size 432x288 with 1 Axes>"
            ],
            "image/png": "[encoded data removed]"
          },
          "metadata": {
            "needs_background": "light"
          }
        }
      ]
    },
    {
      "cell_type": "code",
      "execution_count": 238,
      "metadata": {
        "collapsed": true,
        "jupyter": {
          "outputs_hidden": true
        },
        "id": "GkiQ89a7FzcF",
        "colab": {
          "base_uri": "https://localhost:8080/"
        },
        "outputId": "279d9fce-33a1-4dd0-d517-3368180974b7"
      },
      "outputs": [
        {
          "output_type": "execute_result",
          "data": {
            "text/plain": [
              "[0.8834768568353067,\n",
              " 0.8832077502691066,\n",
              " 0.8307319698600646,\n",
              " 0.8315392895586652,\n",
              " 0.8638320775026911,\n",
              " 0.895048439181916,\n",
              " 0.6466630785791173,\n",
              " 0.8336921420882669,\n",
              " 0.8802475780409041,\n",
              " 0.8947793326157158]"
            ]
          },
          "metadata": {},
          "execution_count": 238
        }
      ],
      "source": [
        "scores"
      ]
    },
    {
      "cell_type": "code",
      "source": [
        "clf = MyGradientBoostingClassifier(\n",
        "    n_estimators=500,\n",
        "    learning_rate=0.1,\n",
        "    loss=\"mse\",\n",
        "    colsample=1.,\n",
        "    subsample=1.,\n",
        "    max_depth=3\n",
        ")\n",
        "clf.fit(X_train_full, y_train_full, init_model=Lasso)\n",
        "accuracy_score(clf.predict(X_test), y_test)"
      ],
      "metadata": {
        "colab": {
          "base_uri": "https://localhost:8080/"
        },
        "id": "4sjdkxyMpbrE",
        "outputId": "4cd084c9-31ab-4c0b-ea12-85aaa98808ec"
      },
      "execution_count": 239,
      "outputs": [
        {
          "output_type": "execute_result",
          "data": {
            "text/plain": [
              "0.9098837209302325"
            ]
          },
          "metadata": {},
          "execution_count": 239
        }
      ]
    },
    {
      "cell_type": "markdown",
      "source": [
        "Результат увеличился на 0.001, что незначительно. Это можно объяснить тем, что алгоритм градиентного бустинга позволяет компенсировать недостатки начальной модели, а поэтому даже инициализация константой позволяет получить хороший результат."
      ],
      "metadata": {
        "id": "D7LtZPkRp1ci"
      }
    },
    {
      "cell_type": "markdown",
      "metadata": {
        "id": "z-gO6JciFzcG"
      },
      "source": [
        "## Фидбек (бесценно)"
      ]
    },
    {
      "cell_type": "markdown",
      "metadata": {
        "id": "zFOvlVkJFzcG"
      },
      "source": [
        "* Какие аспекты обучения  ансамблей Вам показались непонятными? Какое место стоит дополнительно объяснить?"
      ]
    },
    {
      "cell_type": "markdown",
      "metadata": {
        "id": "s8B7kHk8FzcG"
      },
      "source": [
        "### Ваш ответ здесь"
      ]
    },
    {
      "cell_type": "markdown",
      "metadata": {
        "id": "daai93s9FzcH"
      },
      "source": [
        "* Здесь Вы можете оставить отзыв о этой домашней работе или о всем курсе."
      ]
    },
    {
      "cell_type": "markdown",
      "metadata": {
        "id": "yN5DnW6tFzcH"
      },
      "source": [
        "### ВАШ ОТЗЫВ ЗДЕСЬ\n",
        "\n"
      ]
    }
  ],
  "metadata": {
    "anaconda-cloud": {},
    "kernelspec": {
      "display_name": "Python 3 (ipykernel)",
      "language": "python",
      "name": "python3"
    },
    "language_info": {
      "codemirror_mode": {
        "name": "ipython",
        "version": 3
      },
      "file_extension": ".py",
      "mimetype": "text/x-python",
      "name": "python",
      "nbconvert_exporter": "python",
      "pygments_lexer": "ipython3",
      "version": "3.8.8"
    },
    "colab": {
      "name": "selezneva_hw4.ipynb",
      "provenance": [],
      "collapsed_sections": []
    }
  },
  "nbformat": 4,
  "nbformat_minor": 0
}