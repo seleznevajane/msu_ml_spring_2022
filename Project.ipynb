{
  "nbformat": 4,
  "nbformat_minor": 0,
  "metadata": {
    "colab": {
      "name": "Project.ipynb",
      "provenance": [],
      "collapsed_sections": [],
      "include_colab_link": true
    },
    "kernelspec": {
      "name": "python3",
      "display_name": "Python 3"
    },
    "language_info": {
      "name": "python"
    }
  },
  "cells": [
    {
      "cell_type": "markdown",
      "metadata": {
        "id": "view-in-github",
        "colab_type": "text"
      },
      "source": [
        "<a href=\"https://colab.research.google.com/github/seleznevajane/msu_ml_spring_2022/blob/main/Project.ipynb\" target=\"_parent\"><img src=\"https://colab.research.google.com/assets/colab-badge.svg\" alt=\"Open In Colab\"/></a>"
      ]
    },
    {
      "cell_type": "code",
      "execution_count": 117,
      "metadata": {
        "id": "TZxlVKwiJfo4"
      },
      "outputs": [],
      "source": [
        "import requests\n",
        "import logging\n",
        "import gzip\n",
        "import json\n",
        "import codecs\n",
        "import re\n",
        "import regex\n",
        "\n",
        "import numpy as np\n",
        "import pandas as pd\n",
        "\n",
        "from tqdm import tqdm\n",
        "from multiprocessing.dummy import Pool, Queue\n",
        "from bs4 import BeautifulSoup\n",
        "from time import sleep\n",
        "from collections import Counter\n",
        "from nltk.stem.porter import PorterStemmer\n",
        "from nltk.stem.snowball import SnowballStemmer \n",
        "from bs4.element import Comment"
      ]
    },
    {
      "cell_type": "code",
      "source": [
        "def tag_visible(element):\n",
        "    if element.parent.name in ['style', 'script', 'head', 'title', 'meta', '[document]', 'option']:\n",
        "        return False\n",
        "    if isinstance(element, Comment):\n",
        "        return False\n",
        "    return True"
      ],
      "metadata": {
        "id": "UNQMQZe6fp86"
      },
      "execution_count": 96,
      "outputs": []
    },
    {
      "cell_type": "code",
      "source": [
        "def get_title_and_text(doc_id):\n",
        "    page = open(str(doc_id) + \".dat\").read()\n",
        "    soup = BeautifulSoup(page, 'html.parser')\n",
        "\n",
        "    title = soup.title.text\n",
        "\n",
        "    txt = soup.findAll(text=True)\n",
        "    visible = filter(tag_visible, txt)\n",
        "    txt = u\" \".join(t.strip() for t in visible)\n",
        "\n",
        "    reg = regex.compile('[^a-zA-Zа-яА-Я ]')\n",
        "    txt = reg.sub('', txt)\n",
        "    if not hasattr(get_title_and_text, \"stemmer\"):\n",
        "         get_title_and_text.stemmer = SnowballStemmer(\"russian\")\n",
        "    stop = set(stopwords.words('russian'))\n",
        "    words = [stemmer.stem(word) for word in txt.split() if (not (word in stop)) and len(word) > 1]\n",
        "    #words = [get_title_and_text.stemmer.stem(word) for word in txt.split()\n",
        "    #         if len(word) > 3 or len(word) == 3 and word.isupper()]\n",
        "    cnt = Counter(words)\n",
        "\n",
        "    return (set(title.strip().split()), set(dict(cnt.most_common(50)).keys()))"
      ],
      "metadata": {
        "id": "7Lol9U3tpGdK"
      },
      "execution_count": 115,
      "outputs": []
    },
    {
      "cell_type": "code",
      "source": [
        "#for i in range(len(train_data)):\n",
        "def process_page(pair_id):\n",
        "    new_doc = train_data.iloc[pair_id]\n",
        "    doc_group = new_doc['group_id']\n",
        "    doc_id = new_doc['doc_id']\n",
        "    target = new_doc['target']\n",
        "    title, text = get_title_and_text(doc_id)\n",
        "    #title = doc_to_title[doc_id]\n",
        "    if doc_group not in traingroups_titledata:\n",
        "        traingroups_titledata[doc_group] = []\n",
        "    traingroups_titledata[doc_group].append((doc_id, title, text, target))"
      ],
      "metadata": {
        "id": "pGLEqMDYBaPk"
      },
      "execution_count": null,
      "outputs": []
    },
    {
      "cell_type": "code",
      "source": [
        "y_train = []\n",
        "X_train = []\n",
        "groups_train = []\n",
        "for new_group in traingroups_titledata:\n",
        "    docs = traingroups_titledata[new_group]\n",
        "    for k, (doc_id, title, text, target_id) in enumerate(docs):\n",
        "        y_train.append(target_id)\n",
        "        groups_train.append(new_group)\n",
        "        all_dist_title = []\n",
        "        all_dist_text = []\n",
        "        #words = set(title.strip().split())\n",
        "        for j in range(0, len(docs)):\n",
        "            if k == j:\n",
        "                continue\n",
        "            doc_id_j, title_j, text_j, target_j = docs[j]\n",
        "            #words_j = set(title_j.strip().split())\n",
        "            all_dist_title.append(len(title.intersection(title_j)))\n",
        "            all_dist_text.append(len(text.intersection(text_j)))\n",
        "        X_train.append(sorted(all_dist_title, reverse=True)[0:15] + sorted(all_dist_text, reverse=True)[0:15])\n",
        "        #X_train.append(sorted(all_dist_text, reverse=True)[0:15])\n",
        "X_train = np.array(X_train)\n",
        "y_train = np.array(y_train)\n",
        "groups_train = np.array(groups_train)\n",
        "print (X_train.shape, y_train.shape, groups_train.shape)"
      ],
      "metadata": {
        "id": "YdeSCmbXBdkA"
      },
      "execution_count": null,
      "outputs": []
    },
    {
      "cell_type": "code",
      "source": [
        "queue = Queue()   # очередь ссылок на книги\n",
        "train_data = pd.read_csv('/content/train_groups.csv')\n",
        "traingroups_titledata = {}\n",
        "train_data\n",
        "for pair_id in len(train_data):\n",
        "    queue.put(pair_id)\n",
        "\n",
        "def process_page_wrapper(i):\n",
        "    while not queue.empty():\n",
        "        with gzip.open('data/part_{:05d}.jsonl.gz'.format(group_id), mode='wb') as f_json:\n",
        "            f_json = codecs.getwriter('utf_16')(f_json)\n",
        "            # из process_page может вылететь исключение\n",
        "            page = queue.get()\n",
        "            record = process_page(page)\n",
        "            if record:\n",
        "                record_str = json.dumps(record, indent=4, ensure_ascii=False)\n",
        "                print(record_str, file=f_json)\n",
        "\n",
        "            # счетчик должен атомарно обновиться\n",
        "            with lock:\n",
        "                pbar.update(1)\n",
        "\n",
        "\n",
        "with Pool(processes=8) as pool, tqdm(total=queue.qsize()) as pbar:\n",
        "    lock = pbar.get_lock()\n",
        "    pool.map(process_page_wrapper, range(pool._processes))\n",
        "    pool.close()\n",
        "    pool.join()"
      ],
      "metadata": {
        "id": "EqeKaJ5HFk4L"
      },
      "execution_count": null,
      "outputs": []
    },
    {
      "cell_type": "code",
      "source": [
        "get_title_and_text(15763)"
      ],
      "metadata": {
        "colab": {
          "base_uri": "https://localhost:8080/"
        },
        "id": "FNXmclsg_4nm",
        "outputId": "17c91d49-b932-4578-8205-26a05b8d9e6c"
      },
      "execution_count": 116,
      "outputs": [
        {
          "output_type": "execute_result",
          "data": {
            "text/plain": [
              "('Замена и регулировка переднего ступичного подшипника нива | Нива Ремонт',\n",
              " {'виде',\n",
              "  'вынима',\n",
              "  'гайк',\n",
              "  'детал',\n",
              "  'диск',\n",
              "  'для',\n",
              "  'зам',\n",
              "  'замен',\n",
              "  'зат',\n",
              "  'ключ',\n",
              "  'колес',\n",
              "  'кольц',\n",
              "  'комментар',\n",
              "  'кулак',\n",
              "  'лифт',\n",
              "  'мест',\n",
              "  'наружн',\n",
              "  'необходим',\n",
              "  'нив',\n",
              "  'нижн',\n",
              "  'нов',\n",
              "  'образ',\n",
              "  'ос',\n",
              "  'отвертк',\n",
              "  'откручива',\n",
              "  'передн',\n",
              "  'поворотн',\n",
              "  'подвеск',\n",
              "  'подшипник',\n",
              "  'поменя',\n",
              "  'послед',\n",
              "  'последовательн',\n",
              "  'прижимн',\n",
              "  'регулировк',\n",
              "  'ремонт',\n",
              "  'рычаг',\n",
              "  'самостоятельн',\n",
              "  'сво',\n",
              "  'смазк',\n",
              "  'снят',\n",
              "  'ступиц',\n",
              "  'ступичн',\n",
              "  'суппорт',\n",
              "  'так',\n",
              "  'тормозн',\n",
              "  'узел',\n",
              "  'узл',\n",
              "  'чертеж',\n",
              "  'чита',\n",
              "  'шаров'})"
            ]
          },
          "metadata": {},
          "execution_count": 116
        }
      ]
    },
    {
      "cell_type": "code",
      "source": [
        "def group_parser(group):\n",
        "    for doc_id in group:\n",
        "        "
      ],
      "metadata": {
        "id": "II6qlwgsqxLm"
      },
      "execution_count": null,
      "outputs": []
    },
    {
      "cell_type": "code",
      "source": [
        "import nltk\n",
        "from nltk.corpus import stopwords\n",
        "nltk.download('stopwords')\n",
        "stops = set(stopwords.words('russian'))\n",
        "print(stops)"
      ],
      "metadata": {
        "colab": {
          "base_uri": "https://localhost:8080/"
        },
        "id": "_AKT_-2I7MRU",
        "outputId": "a1ba36a5-dc78-4f9b-9fa0-9a1f86948a08"
      },
      "execution_count": 84,
      "outputs": [
        {
          "output_type": "stream",
          "name": "stdout",
          "text": [
            "[nltk_data] Downloading package stopwords to /root/nltk_data...\n",
            "[nltk_data]   Unzipping corpora/stopwords.zip.\n",
            "{'кто', 'теперь', 'почти', 'другой', 'тоже', 'чего', 'под', 'два', 'такой', 'по', 'про', 'разве', 'со', 'еще', 'мой', 'они', 'конечно', 'нет', 'он', 'ее', 'или', 'здесь', 'вам', 'нибудь', 'наконец', 'из', 'ему', 'раз', 'вы', 'их', 'иногда', 'более', 'до', 'тут', 'этом', 'уже', 'три', 'может', 'что', 'эти', 'потом', 'сейчас', 'чтобы', 'ней', 'во', 'перед', 'я', 'свою', 'не', 'об', 'ей', 'чуть', 'тот', 'если', 'даже', 'без', 'хоть', 'нас', 'этой', 'же', 'а', 'куда', 'после', 'тебя', 'ты', 'к', 'через', 'всегда', 'с', 'для', 'моя', 'вас', 'его', 'этого', 'всего', 'был', 'где', 'на', 'надо', 'меня', 'чтоб', 'него', 'было', 'ж', 'хорошо', 'какая', 'мы', 'этот', 'том', 'ним', 'всех', 'над', 'уж', 'можно', 'то', 'ни', 'какой', 'быть', 'но', 'тем', 'ведь', 'лучше', 'мне', 'о', 'совсем', 'них', 'только', 'была', 'чем', 'больше', 'опять', 'между', 'потому', 'сам', 'да', 'им', 'тогда', 'при', 'все', 'ну', 'будет', 'всю', 'так', 'себя', 'впрочем', 'никогда', 'и', 'ничего', 'в', 'у', 'один', 'за', 'были', 'там', 'себе', 'бы', 'зачем', 'от', 'когда', 'ли', 'эту', 'как', 'того', 'нельзя', 'она', 'много', 'вдруг', 'вот', 'есть', 'нее', 'будто'}\n"
          ]
        }
      ]
    },
    {
      "cell_type": "code",
      "source": [
        "page = open(\"17176.dat\").read().lower()# requests.get('https://gg.deals/games/')\n",
        "soup = BeautifulSoup(page, 'html.parser')\n",
        "page2 = open(\"15763.dat\").read()# requests.get('https://gg.deals/games/')\n",
        "soup2 = BeautifulSoup(page2, 'html.parser')"
      ],
      "metadata": {
        "id": "wdOZ71xCLG3-"
      },
      "execution_count": 85,
      "outputs": []
    },
    {
      "cell_type": "code",
      "source": [
        "soup"
      ],
      "metadata": {
        "id": "LEPiHBcjaB2k"
      },
      "execution_count": null,
      "outputs": []
    },
    {
      "cell_type": "code",
      "source": [
        "soup2.title"
      ],
      "metadata": {
        "colab": {
          "base_uri": "https://localhost:8080/"
        },
        "id": "Bn5E9I9OaE84",
        "outputId": "5a61f3f4-4d24-4455-9d94-b7c8289232ec"
      },
      "execution_count": null,
      "outputs": [
        {
          "output_type": "execute_result",
          "data": {
            "text/plain": [
              "<title>Замена и регулировка переднего ступичного подшипника нива | Нива Ремонт</title>"
            ]
          },
          "metadata": {},
          "execution_count": 52
        }
      ]
    },
    {
      "cell_type": "code",
      "source": [
        "txt2 = soup2.get_text(' ', strip=True)\n",
        "txt2"
      ],
      "metadata": {
        "id": "tjCy7XbOLzKN"
      },
      "execution_count": null,
      "outputs": []
    },
    {
      "cell_type": "code",
      "source": [
        "txt = soup.findAll(text=True)\n",
        "visible = filter(tag_visible, txt)\n",
        "txt = u\" \".join(t.strip() for t in visible)\n",
        "txt"
      ],
      "metadata": {
        "id": "T8hiMMMleu3E",
        "colab": {
          "base_uri": "https://localhost:8080/",
          "height": 157
        },
        "outputId": "fb579086-c771-4243-9a59-90b31c64c376"
      },
      "execution_count": 97,
      "outputs": [
        {
          "output_type": "execute_result",
          "data": {
            "text/plain": [
              "'          autoruk.ru                                       страница 1 из 3 замена подшипников ступицы передних колес ваз-2121  номер подшипника по каталогу 2121-3103020-10/6-2007108-а  работу проводим на смотровой канаве или подъемнике. вывешиваем переднюю часть автомобиля и снимаем колесо.       1. отсоединяем суппорт с направляющей колодок (см. разборка переднего тормозного механизма) и подвязываем их проволокой к верхнему рычагу. отворачиваем регулировочную гайку подшипников ступицы ( см. проверка и регулировка зазора в подшипниках ступицы ).      2. вынимаем конусную втулку.        3. зубилом разгибаем край стопорной пластины гайки переднего крепления рычага к поворотному кулаку. аналогично расконтриваем гайку заднего крепления.      4. накидным ключом «на 19» отворачиваем гайку заднего крепления рычага к поворотному кулаку. аналогично отворачиваем гайку переднего крепления.        5. снимаем стопорную пластину.      6. сняв рычаг с болтов, отводим его от поворотного кулака. отсоединяем тормозные шланги от поворотного кулака. отсоединяем крепление верхней и нижней шаровых опор от рычагов ( см. снятие верхней шаровой опоры, и снятие нижней шаровой опоры ).                 7. со шлицев корпуса наружного шарнира привода переднего колеса снимаем поворотный кулак в сборе с шаровыми опорами, ступичным узлом и тормозным диском.      8. разъединяем поворотный кулак и ступицу с тормозным диском.        9. при затруднении в разъединении деталей зажимаем поворотный кулак в тиски и выколоткой из мягкого металла выбиваем ступицу.      10. теперь можно вынуть болты крепления рычага к поворотному кулаку.        1 2 3       добавить комментарий   jcomments                            2101-2107-klass газ-2705 ваз 2108-2170 авенсис тойота лада гранта лада приора патриот камаз1 газ-3110 нива шевролет авео шевролет все по форд таурус все по опель корса лада веста лада хрей нива ваз-2121 лада ларгус урал зил бычок маз паз газ-66 ваз-2110 зил-131   наверх   © 2017 autoruk.ru    '"
            ],
            "application/vnd.google.colaboratory.intrinsic+json": {
              "type": "string"
            }
          },
          "metadata": {},
          "execution_count": 97
        }
      ]
    },
    {
      "cell_type": "code",
      "source": [
        "txt = soup.get_text(' ', strip=True)"
      ],
      "metadata": {
        "id": "hzw5CexsOJXg"
      },
      "execution_count": 86,
      "outputs": []
    },
    {
      "cell_type": "code",
      "source": [
        "stemmer = SnowballStemmer(\"russian\")\n",
        "stop = set(stopwords.words('russian'))\n",
        "words = [stemmer.stem(word) for word in txt.split() if not (word in stop)]\n",
        "\n",
        "\n",
        "#for word in txt.split():\n",
        "#    if len(word) > 2:\n",
        "#        words.append(word)\n",
        "#words = [words[i] for i in range(len(words))]\n",
        "\n",
        "\n",
        "cnt = Counter(words)"
      ],
      "metadata": {
        "id": "OCaW0boyMB6T"
      },
      "execution_count": 98,
      "outputs": []
    },
    {
      "cell_type": "code",
      "source": [
        "#stemmer = SnowballStemmer(\"russian\")\n",
        "words2 = [stemmer.stem(word) for word in txt2.split() if len(word) > 3 or len(word) == 3 and word.isupper()]\n",
        "cnt2 = Counter(words2)"
      ],
      "metadata": {
        "id": "INTUZ60iXrk0"
      },
      "execution_count": null,
      "outputs": []
    },
    {
      "cell_type": "code",
      "source": [
        "dict(cnt.most_common(50)).keys()"
      ],
      "metadata": {
        "colab": {
          "base_uri": "https://localhost:8080/"
        },
        "id": "gs6_Ec3p3Swl",
        "outputId": "23c7700d-ac72-41f8-bbd5-1a1f238d944f"
      },
      "execution_count": 107,
      "outputs": [
        {
          "output_type": "execute_result",
          "data": {
            "text/plain": [
              "dict_keys(['поворотн', 'передн', 'гайк', 'рычаг', 'лад', 'подшипник', 'ступиц', 'тормозн', 'креплен', 'шаров', 'снима', 'отсоединя', 'верхн', 'отворачива', 'кулаку.', 'кулак', 'autoruk.r', '1', '3', 'колес', 'ваз-2121', '(', 'см.', ').', 'стопорн', 'аналогичн', 'задн', 'крепления.', 'кулака.', 'нижн', 'опор', 'снят', 'диском.', 'нив', 'шевролет', 'страниц', 'зам', 'номер', 'каталог', '2121-3103020-10/6-2007108-а', 'работ', 'провод', 'смотров', 'канав', 'подъемнике.', 'вывешива', 'част', 'автомобил', 'колесо.', '1.'])"
            ]
          },
          "metadata": {},
          "execution_count": 107
        }
      ]
    },
    {
      "cell_type": "code",
      "source": [
        "cnt2.most_common(100)"
      ],
      "metadata": {
        "colab": {
          "base_uri": "https://localhost:8080/"
        },
        "id": "LC5gf-7hYnL6",
        "outputId": "508bb288-1ac7-4eb2-b327-e21955f9bc13"
      },
      "execution_count": 74,
      "outputs": [
        {
          "output_type": "execute_result",
          "data": {
            "text/plain": [
              "[('подшипник', 9),\n",
              " ('нив', 8),\n",
              " ('поворотн', 8),\n",
              " ('кулак', 7),\n",
              " ('тормозн', 6),\n",
              " ('зат', 6),\n",
              " ('зам', 5),\n",
              " ('регулировк', 5),\n",
              " ('передн', 5),\n",
              " ('ступичн', 5),\n",
              " ('подвеск', 5),\n",
              " ('рычаг', 5),\n",
              " ('ступиц', 4),\n",
              " ('эт', 4),\n",
              " ('необходим', 4),\n",
              " ('самостоятельн', 4),\n",
              " ('чег', 4),\n",
              " ('лифт', 4),\n",
              " ('ключ', 4),\n",
              " ('последовательн', 4),\n",
              " ('поменя', 3),\n",
              " ('послед', 3),\n",
              " ('замен', 3),\n",
              " ('подшипник,', 3),\n",
              " ('снят', 3),\n",
              " ('суппорт', 3),\n",
              " ('нижн', 3),\n",
              " ('прижимн', 3),\n",
              " ('чита', 3),\n",
              " ('так', 3),\n",
              " ('чтоб', 3),\n",
              " ('посл', 3),\n",
              " ('откручива', 3),\n",
              " ('шаров', 3),\n",
              " ('узел', 3),\n",
              " ('наружн', 3),\n",
              " ('сво', 3),\n",
              " ('содержан', 2),\n",
              " ('звук', 2),\n",
              " ('отлич', 2),\n",
              " ('однак', 2),\n",
              " ('износ', 2),\n",
              " ('узл', 2),\n",
              " ('характерн', 2),\n",
              " ('неисправн', 2),\n",
              " ('вероятн', 2),\n",
              " ('сам', 2),\n",
              " ('настройк', 2),\n",
              " ('отсутств', 2),\n",
              " ('вывес', 2),\n",
              " ('имеет', 2),\n",
              " ('треб', 2),\n",
              " ('механизм', 2),\n",
              " ('оси.', 2),\n",
              " ('помощ', 2),\n",
              " ('аккуратн', 2),\n",
              " ('вынут', 2),\n",
              " ('полезн', 2),\n",
              " ('чертеж', 2),\n",
              " ('плоск', 2),\n",
              " ('посадочн', 2),\n",
              " ('мест', 2),\n",
              " ('образом,', 2),\n",
              " ('демонтаж', 2),\n",
              " ('гаек', 2),\n",
              " ('производ', 2),\n",
              " ('фиксатор', 2),\n",
              " ('такж', 2),\n",
              " ('отвертк', 2),\n",
              " ('убира', 2),\n",
              " ('двум', 2),\n",
              " ('верхн', 2),\n",
              " ('рычагу.', 2),\n",
              " ('провод', 2),\n",
              " ('детал', 2),\n",
              " ('рук', 2),\n",
              " ('диск', 2),\n",
              " ('работ', 2),\n",
              " ('друг', 2),\n",
              " ('защища', 2),\n",
              " ('вынима', 2),\n",
              " ('кольца.', 2),\n",
              " ('смазк', 2),\n",
              " ('индикатор', 2),\n",
              " ('регулировочн', 2),\n",
              " ('зазор', 2),\n",
              " ('гайк', 2),\n",
              " ('двурядн', 2),\n",
              " ('комментар', 2),\n",
              " ('сайт', 2),\n",
              " ('главн', 1),\n",
              " ('тех-раздел', 1),\n",
              " ('тюнинг', 1),\n",
              " ('автор:', 1),\n",
              " ('09.03.2017', 1),\n",
              " ('статьи:', 1),\n",
              " ('симптом', 1),\n",
              " ('последств', 1),\n",
              " ('вышедш', 1),\n",
              " ('стро', 1)]"
            ]
          },
          "metadata": {},
          "execution_count": 74
        }
      ]
    },
    {
      "cell_type": "code",
      "source": [
        "cnt.most_common(50)"
      ],
      "metadata": {
        "colab": {
          "base_uri": "https://localhost:8080/"
        },
        "id": "JoRjaiGJOrrp",
        "outputId": "eda9831e-f818-4551-eb0a-feb269749938"
      },
      "execution_count": null,
      "outputs": [
        {
          "output_type": "execute_result",
          "data": {
            "text/plain": [
              "[('поворотн', 8),\n",
              " ('передн', 7),\n",
              " ('.activ', 6),\n",
              " ('подшипник', 5),\n",
              " ('ступиц', 5),\n",
              " ('(adsbygoogl', 5),\n",
              " ('window.adsbygoogl', 5),\n",
              " ('гайк', 5),\n",
              " ('рычаг', 5),\n",
              " ('лад', 5),\n",
              " ('a:hover,', 4),\n",
              " ('!important;}', 4),\n",
              " ('function', 4),\n",
              " ('[]).push({});', 4),\n",
              " ('тормозн', 4),\n",
              " ('креплен', 4),\n",
              " ('шаров', 4),\n",
              " ('колес', 3),\n",
              " ('ваз-2121', 3),\n",
              " ('#0088cc;', 3),\n",
              " ('.dropdown-men', 3),\n",
              " ('a.flag', 3),\n",
              " ('снима', 3),\n",
              " ('отсоединя', 3),\n",
              " ('верхн', 3),\n",
              " ('отворачива', 3),\n",
              " ('кулаку.', 3),\n",
              " ('кулак', 3),\n",
              " ('.nav-list', 2),\n",
              " ('.nav-pills', 2),\n",
              " ('{display:non', 2),\n",
              " ('tru', 2),\n",
              " ('autoruk.r', 2),\n",
              " ('keyValu', 2),\n",
              " ('Chines', 2),\n",
              " ('w[n]', 2),\n",
              " ('стопорн', 2),\n",
              " ('аналогичн', 2),\n",
              " ('задн', 2),\n",
              " ('крепления.', 2),\n",
              " ('кулака.', 2),\n",
              " ('нижн', 2),\n",
              " ('опор', 2),\n",
              " ('снят', 2),\n",
              " ('диском.', 2),\n",
              " ('<!--', 2),\n",
              " ('//-->', 2),\n",
              " ('нив', 2),\n",
              " ('шевролет', 2),\n",
              " ('autoruk.ru/niva-vaz-2121/podveska-vaz-2121/kak-zamenit-podshipniki-stupitc-perednikh-koles-vaz-2121',\n",
              "  1)]"
            ]
          },
          "metadata": {},
          "execution_count": 60
        }
      ]
    }
  ]
}